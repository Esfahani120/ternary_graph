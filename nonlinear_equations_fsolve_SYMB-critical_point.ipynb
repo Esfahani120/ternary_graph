{
 "cells": [
  {
   "attachments": {},
   "cell_type": "markdown",
   "metadata": {},
   "source": [
    "# Ternary System\n",
    "<br> A typical ternary system consists of nonsolvent (1), solvent(2) and polymer(3).\n",
    "\\begin{align*}\n",
    " \\psi_i=\\frac{m_i \\varphi_i}{1-2\\chi_i}\\\\\n",
    " \\varphi_i=\\frac{\\psi_i}{m_i(1-2\\psi_i)}\\\\\n",
    " \\chi_1 = \\frac{1}{2}(\\chi_{12} + \\chi_{13} - \\chi_{23})\\\\\n",
    " \\chi_1 = \\frac{1}{2}(\\chi_{12} + \\chi_{23} - \\chi_{13})\\\\\n",
    " \\chi_1 = \\frac{1}{2}(\\chi_{13} + \\chi_{23} - \\chi_{12})\n",
    "\\end{align*}\n",
    "for more inofrmation about the comepelet formulations, please see:\n",
    "<br> [1] Zhou, B. (2006). Simulations of polymeric membrane formation in 2D and 3D (Doctoral dissertation, Massachusetts Institute of Technology)."
   ]
  },
  {
   "cell_type": "code",
   "execution_count": 903,
   "metadata": {},
   "outputs": [
    {
     "name": "stdout",
     "output_type": "stream",
     "text": [
      "Once deleted, variables cannot be recovered. Proceed (y/[n])? y\n"
     ]
    }
   ],
   "source": [
    "%reset\n",
    "import numpy as np\n",
    "from scipy import stats\n",
    "from scipy import optimize\n",
    "import matplotlib.pyplot as plt\n",
    "%matplotlib inline\n",
    "\n",
    "N1 = 1.0\n",
    "N2 = 1.0\n",
    "N3 = 1.0\n",
    "chi12 = 2.0\n",
    "chi13 = 4.0\n",
    "chi23 = 1.0\n",
    "\n",
    "chi1 = 0.5*(chi12 + chi13 - chi23)\n",
    "chi2 = 0.5*(chi12 + chi23 - chi13)\n",
    "chi3 = 0.5*(chi13 + chi23 - chi12)"
   ]
  },
  {
   "attachments": {},
   "cell_type": "markdown",
   "metadata": {},
   "source": [
    "## Critical Point\n",
    "<br> The critical point can be solved by solving the following three equations:\n",
    "\\begin{align*}\n",
    " \\psi_1+\\psi_2+\\psi_3=0\\\\\n",
    " \\psi_1(1+2\\chi_1\\psi_1)^2+\\psi_2(1+2\\chi_2\\psi_2)^2+m\\psi_3(1+2\\chi_3\\psi_3)^2=0\\\\\n",
    " \\varphi_1+\\varphi_2+\\varphi_3 = 1\n",
    "\\end{align*}"
   ]
  },
  {
   "cell_type": "code",
   "execution_count": 904,
   "metadata": {},
   "outputs": [],
   "source": [
    "## following equation is defined for obtaining the critical point\n",
    "def equations(p):\n",
    "    phi1, phi2 = p\n",
    "    phi3 = 1. - phi1 - phi2\n",
    "\n",
    "   \n",
    "    f1 = phi1*(1.-2.*chi2*phi2)*(1.-2.*chi3*phi3) +\\\n",
    "         phi2*(1.-2.*chi1*phi1)*(1.-2.*chi3*phi3) +\\\n",
    "         N3*phi3*(1.-2.*chi1*phi1)*(1.-2.*chi2*phi2)\n",
    "    f2 = phi1*(1.-2.*chi2*phi2)**3.*(1.-2.*chi3*phi3)**3. +\\\n",
    "         phi2*(1.-2.*chi1*phi1)**3.*(1.-2.*chi3*phi3)**3. +\\\n",
    "         N3*phi3*(1.-2.*chi1*phi1)**3.*(1.-2.*chi2*phi2)**3.\n",
    "    \n",
    "    return (f1,f2)"
   ]
  },
  {
   "cell_type": "markdown",
   "metadata": {},
   "source": [
    "Let's plot \"equations\" function to see approximately the location of the critical point. To this end, we plot each equation in the \"equations\" function separately. "
   ]
  },
  {
   "cell_type": "code",
   "execution_count": 905,
   "metadata": {},
   "outputs": [
    {
     "data": {
      "image/png": "[encoded data removed]",
      "text/plain": [
       "<Figure size 504x504 with 1 Axes>"
      ]
     },
     "metadata": {
      "needs_background": "light"
     },
     "output_type": "display_data"
    }
   ],
   "source": [
    "###\n",
    "x, y = np.meshgrid(\n",
    "    np.arange(.023, .99, 0.01),\n",
    "    np.arange(.023, .99, 0.01))\n",
    "plt.figure(figsize=(7,7))\n",
    "lev = np.arange(-1, 1, 0.1)\n",
    "Eq1_fig = plt.contour(x, y,\n",
    "             equations([x, y])[0], \n",
    "             levels=[0], alpha=0.5, cmap='rainbow_r')\n",
    "Eq2_fig = plt.contour(x, y,\n",
    "             equations([x, y])[1],\n",
    "            levels=[0], alpha=1, cmap='gray', linestyles='dashed')"
   ]
  },
  {
   "cell_type": "markdown",
   "metadata": {},
   "source": [
    "PLEASE NOTE: FSOLVE FINDS THE CLOSEST ROOT TO THE FIRST GUESS GRID IS DEFINED TO SEARCH ALL 4 REGIONS CLOSE TO THE ROOTS ONE WAY TO FIND ALL THE ROOTS, IF YOU HAD NO IDEA ABOUT THE FIRST GUESS, IS TO MESH THE DOMAIN. "
   ]
  },
  {
   "cell_type": "markdown",
   "metadata": {},
   "source": [
    "calculation for obtaining the critical point"
   ]
  },
  {
   "cell_type": "code",
   "execution_count": 906,
   "metadata": {},
   "outputs": [],
   "source": [
    "x_dim = np.arange(0.01, 0.99, 0.001)\n",
    "y_dim = x_dim\n",
    "\n",
    "grid = np.zeros((len(x_dim)*len(y_dim), 2))\n",
    "\n",
    "m = 0\n",
    "for i in range(len(x_dim)):\n",
    "    for j in range(len(y_dim)):\n",
    "        grid[m,:] = x_dim[i], y_dim[j]\n",
    "        m+=1"
   ]
  },
  {
   "cell_type": "markdown",
   "metadata": {},
   "source": [
    "Following will solve the \"equations\" with three different methods. (fsolve, Newton's, skimming the meshgrid)"
   ]
  },
  {
   "cell_type": "code",
   "execution_count": 907,
   "metadata": {},
   "outputs": [
    {
     "data": {
      "application/vnd.jupyter.widget-view+json": {
       "model_id": "e31ba90ab03649e28bdec76c65107273",
       "version_major": 2,
       "version_minor": 0
      },
      "text/plain": [
       "HBox(children=(FloatProgress(value=0.0, max=960400.0), HTML(value='')))"
      ]
     },
     "metadata": {},
     "output_type": "display_data"
    },
    {
     "name": "stdout",
     "output_type": "stream",
     "text": [
      "\n",
      "(phi1, phi2, phi3): (0.185, 0.436, 0.379)\n"
     ]
    }
   ],
   "source": [
    "roots =[]\n",
    "from tqdm.notebook import tqdm\n",
    "\n",
    "## method 1 in obtaing critical points (fsolve optimization)\n",
    "# for i in tqdm(range(len(grid))):\n",
    "#     initial_guess = optimize.fmin(f, (grid[i]))\n",
    "#     pr = optimize.fsolve(equations, initial_guess)\n",
    "#     if np.sqrt(np.sum(np.array(equations(pr))**2.))<1e-11:\n",
    "#         roots.append(pr)\n",
    "\n",
    "## method 2 in obtaing critical points (last resort; when all numerical methods fail)\n",
    "for i in tqdm(range(len(grid))):\n",
    "    if (np.abs(equations(grid[i]))<0.001).all():\n",
    "        roots.append(grid[i])\n",
    "\n",
    "## method 3 in obtaing critical points (Newton's method)\n",
    "# for i in tqdm(range(len(grid))):\n",
    "#     pr = optimize.root(equations, grid[i], jac=False, method='hybr')\n",
    "#     roots.append(pr.x)\n",
    "        \n",
    "roots = np.asarray(roots)\n",
    "\n",
    "r3 = 1.-(roots[:,0]+roots[:,1])\n",
    "roots = roots[((roots[:,0]>=0.0) & (roots[:,0]<=1.0) & (roots[:,1]>=0.0) & (roots[:,1]<=1.0) &\\\n",
    "              ((1.-roots[:,0]-roots[:,1])>=0.0) & ((1.-roots[:,0]-roots[:,1])<=1.0))]\n",
    "\n",
    "rounded_root = np.round(roots, 3)\n",
    "print(\"(phi1, phi2, phi3):\", (rounded_root[0,0], rounded_root[0,1], 1.-(rounded_root[0,0]+rounded_root[0,1])))"
   ]
  },
  {
   "attachments": {},
   "cell_type": "markdown",
   "metadata": {},
   "source": [
    "## Spinodal\n",
    "<br> For obtaining the spinodal points, we do not need to solve any equations, because it can be found from the previous plot. Note that equation for the spinodal points is exactly the red curve. Since spinodal equation is pretty simple, we just skim the 2D domain and find the points that satisfies the \"equation_spinodal\".\n",
    "\n",
    "\\begin{equation*}\n",
    "\\psi_1+\\psi_2+\\psi_3=0\n",
    "\\end{equation*}"
   ]
  },
  {
   "cell_type": "code",
   "execution_count": 908,
   "metadata": {},
   "outputs": [],
   "source": [
    "x_dim = np.arange(0.023, 0.99, 0.001) #these numbers are chosen emperically\n",
    "grid = np.zeros((len(x_dim)**2, 2))\n",
    "\n",
    "c = 0\n",
    "for i in range(len(x_dim)):\n",
    "    for j in range(len(x_dim)):\n",
    "        grid[c,:] = x_dim[i], x_dim[j]\n",
    "        c+=1\n",
    "\n",
    "def equation_spinodal(p):\n",
    "    phi1, phi2 = p\n",
    "    phi3 = 1. - phi1 - phi2\n",
    "\n",
    "\n",
    "    f1 = phi1*(1.0-2.0*chi2*phi2)*(1.0-2.0*chi3*phi3) +\\\n",
    "         phi2*(1.0-2.0*chi1*phi1)*(1.0-2.0*chi3*phi3) +\\\n",
    "         N3*phi3*(1.0-2.0*chi1*phi1)*(1.0-2.0*chi2*phi2)\n",
    "\n",
    "    return (f1)\n",
    "\n",
    "roots_spinodal = []\n",
    "for i in range(len(grid)):\n",
    "    aaa = equation_spinodal(grid[i])\n",
    "    if abs(aaa)<0.001: \n",
    "        roots_spinodal.append(grid[i])\n",
    "roots_spinodal = np.asarray(roots_spinodal)\n",
    "roots_spinodal = roots_spinodal[((roots_spinodal[:,0]>=0.0) & (roots_spinodal[:,0]<=1.0) & (roots_spinodal[:,1]>=0.0) & \\\n",
    "                                 (roots_spinodal[:,1]<=1.0) & ((1.-roots_spinodal[:,0]-roots_spinodal[:,1])>=0.0) & \\\n",
    "                                 ((1.-roots_spinodal[:,0]-roots_spinodal[:,1])<=1.0))]\n",
    "points_sp = roots_spinodal"
   ]
  },
  {
   "attachments": {},
   "cell_type": "markdown",
   "metadata": {},
   "source": [
    "## Binodal\n",
    "<br>Similarly, the binodal is defined by solving the following three equations:\n",
    "\n",
    "\\begin{align*}\n",
    " \\Delta\\mu_1^\\prime = \\Delta\\mu_1^\" \\\\\n",
    " \\Delta\\mu_2^\\prime = \\Delta\\mu_2^\" \\\\\n",
    " \\Delta\\mu_3^\\prime = \\Delta\\mu_3^\"\n",
    "\\end{align*}"
   ]
  },
  {
   "attachments": {},
   "cell_type": "markdown",
   "metadata": {},
   "source": [
    "And substitute $\\varphi_1^\\prime$ and $\\varphi_2^\\prime$ by the following relations:\n",
    "\\begin{align*}\n",
    " \\varphi_1^\\prime+\\varphi_2^\\prime+\\varphi_3^\\prime=1\\\\\n",
    "  \\varphi_1^\"+\\varphi_2^\"+\\varphi_3^\"=1\n",
    " \\end{align*}"
   ]
  },
  {
   "cell_type": "code",
   "execution_count": 909,
   "metadata": {},
   "outputs": [
    {
     "data": {
      "application/vnd.jupyter.widget-view+json": {
       "model_id": "98012e160960443b9ee5eee8e3c04faf",
       "version_major": 2,
       "version_minor": 0
      },
      "text/plain": [
       "HBox(children=(FloatProgress(value=0.0, max=20.0), HTML(value='')))"
      ]
     },
     "metadata": {},
     "output_type": "display_data"
    },
    {
     "name": "stdout",
     "output_type": "stream",
     "text": [
      "\n"
     ]
    }
   ],
   "source": [
    "x_dim = np.arange(0.023, 0.99, 0.1) these numbers are chosen emperically\n",
    "y_dim = x_dim\n",
    "z_dim = x_dim\n",
    "skimmer = np.arange(0.023, 0.99, 0.05)  #these numbers are chosen emperically\n",
    "binodal_points = [] # roots that we are looking for\n",
    "other_roots = [] #it's used just to save roots that are not useful\n",
    "all_roots = [] #all the roots in one array\n",
    "\n",
    "def ln_t(x0):\n",
    "    asd = 0.0\n",
    "    for i in range(1,20):\n",
    "        asd = asd - (-1.0)**i * (1/i)*(x0-1.0)**i\n",
    "    return asd\n",
    "from tqdm.notebook import tqdm\n",
    "for skim in tqdm(skimmer):\n",
    "    \n",
    "    grid = np.zeros((len(x_dim)*len(y_dim)*len(z_dim), 4))\n",
    "\n",
    "    c = 0\n",
    "    for i in range(len(x_dim)):\n",
    "        for j in range(len(y_dim)):\n",
    "            for k in range(len(z_dim)):\n",
    "                grid[c,:] = x_dim[i], y_dim[j], z_dim[k], skim\n",
    "                c+=1\n",
    "            \n",
    "    def equations2(PHI):\n",
    "        phi1_1, phi2_1, phi1_2, phi2_2 = PHI\n",
    "        phi3_1 = 1.0 - phi1_1 - phi2_1\n",
    "        phi3_2 = 1.0 - phi1_2 - phi2_2\n",
    "\n",
    "###########following lines are for the case we use np.log terms\n",
    "#         f1 = chi12*(phi2_1**2 - phi2_2**2) + \\\n",
    "#             chi13*(phi3_1**2 - phi3_2**2) + \\\n",
    "#             np.log(phi1_1) - np.log(phi1_2) + \\\n",
    "#             (phi3_1 - phi3_2)*(1-1/N3) + \\\n",
    "#             (chi12+chi13-chi23) * (phi2_1*phi3_1 - phi2_2*phi3_2)\n",
    "\n",
    "#         f2 = np.log(phi2_1) - np.log(phi2_2) + \\\n",
    "#             chi12*((phi2_1 - 1)**2 - (phi2_2-1)**2) + \\\n",
    "#             chi13*(phi3_1**2 - phi3_2**2) + \\\n",
    "#             1/N3 * (phi3_2 - phi3_1) + \\\n",
    "#             phi3_1 * (1 + (phi2_1 - 1)*(chi12+chi13) + chi23 - phi2_1*chi23) - \\\n",
    "#             phi3_2 * (1 + (phi2_2 - 1)*(chi12+chi13) + chi23 - phi2_2*chi23)\n",
    "\n",
    "#         f3 = np.log(phi3_1) - np.log(phi3_2) + \\\n",
    "#             phi3_2 - phi3_1 + \\\n",
    "#             N3 * (chi13 * (phi3_1**2 - phi3_2**2) + \\\n",
    "#             (1-2*chi13)*(phi3_1-phi3_2) +\\\n",
    "#             (chi12+chi13-chi23)*(phi3_1*phi2_1 - phi3_2*phi2_2)) + \\\n",
    "#             N3 * (phi2_1*(chi12*phi2_1-chi12-chi13+chi23)) - \\\n",
    "#             N3 * (phi2_2*(chi12*phi2_2-chi12-chi13+chi23))\n",
    "\n",
    "###########following lines are for the case we use ln_t (Taylor seris for ln)\n",
    "\n",
    "        f1 = chi12*(phi2_1**2 - phi2_2**2) + \\\n",
    "             chi13*(phi3_1**2 - phi3_2**2) + \\\n",
    "             ln_t(phi1_1) - ln_t(phi1_2) + \\\n",
    "             (phi3_1 - phi3_2)*(1-1/N3) + \\\n",
    "             (chi12+chi13-chi23) * (phi2_1*phi3_1 - phi2_2*phi3_2)\n",
    "\n",
    "        f2 = ln_t(phi2_1) - ln_t(phi2_2) + \\\n",
    "             chi12*((phi2_1 - 1)**2 - (phi2_2-1)**2) + \\\n",
    "             chi13*(phi3_1**2 - phi3_2**2) + \\\n",
    "             1/N3 * (phi3_2 - phi3_1) + \\\n",
    "             phi3_1 * (1 + (phi2_1 - 1)*(chi12+chi13) + chi23 - phi2_1*chi23) - \\\n",
    "             phi3_2 * (1 + (phi2_2 - 1)*(chi12+chi13) + chi23 - phi2_2*chi23)\n",
    "\n",
    "        f3 = ln_t(phi3_1) - ln_t(phi3_2) + \\\n",
    "             phi3_2 - phi3_1 + \\\n",
    "             N3 * (chi13 * (phi3_1**2 - phi3_2**2) + \\\n",
    "             (1-2*chi13)*(phi3_1-phi3_2) +\\\n",
    "             (chi12+chi13-chi23)*(phi3_1*phi2_1 - phi3_2*phi2_2)) + \\\n",
    "             N3 * (phi2_1*(chi12*phi2_1-chi12-chi13+chi23)) - \\\n",
    "             N3 * (phi2_2*(chi12*phi2_2-chi12-chi13+chi23))\n",
    "\n",
    "        f4 = phi2_2 - skim\n",
    "\n",
    "        return (f1,f2,f3,f4)\n",
    "    \n",
    "    def f(p):\n",
    "        return abs(sum(np.array(equations2(p))**2.)-0.)\n",
    "\n",
    "\n",
    "    roots =[]\n",
    "    for i in range(len(grid)):\n",
    "#         pr = optimize.root(equations2, grid[i], jac=False, method='lm')\n",
    "#         roots.append(pr.x)\n",
    "        \n",
    "        pr = optimize.fsolve(equations2, grid[i])\n",
    "        if (np.sqrt(np.sum(np.array(equations2(pr))**2.)))<0.001:\n",
    "            roots.append(pr)\n",
    "\n",
    "    roots = np.asarray(roots)\n",
    "\n",
    "    if roots.size > 0:\n",
    "            roots = roots[((roots[:,0]>=0.0) & (roots[:,0]<=1.0) & (roots[:,1]>=0.0) & (roots[:,1]<=1.0) &\\\n",
    "                  ((1.-roots[:,0]-roots[:,1])>=0.0) & ((1.-roots[:,0]-roots[:,1])<=1.0))]\n",
    "            new_round_root = np.round(roots,2)\n",
    "            temp0 = (np.cross(new_round_root[:,0:2],new_round_root[:,2:4]))!=0.0\n",
    "            if temp0.any():\n",
    "                temp = np.unique(new_round_root[temp0,0:2], axis=0)\n",
    "                for i0 in range(len(temp)):\n",
    "                    binodal_points.append(temp[i0])\n",
    "                    \n",
    "    all_roots.append(roots)\n",
    "    \n",
    "binodal_points = np.asarray(binodal_points)\n"
   ]
  },
  {
   "cell_type": "markdown",
   "metadata": {},
   "source": [
    "## Visualization of the Ternary System"
   ]
  },
  {
   "cell_type": "code",
   "execution_count": 910,
   "metadata": {
    "scrolled": true
   },
   "outputs": [
    {
     "data": {
      "image/png": "[encoded data removed]",
      "text/plain": [
       "<Figure size 720x720 with 1 Axes>"
      ]
     },
     "metadata": {},
     "output_type": "display_data"
    }
   ],
   "source": [
    "import ternary\n",
    "\n",
    "indices = []\n",
    "for i in range(len(binodal_points)):\n",
    "    if equations(binodal_points[i])[0]>0.0:\n",
    "        indices.append(i)\n",
    "    \n",
    "\n",
    "fig, tax = ternary.figure(scale=1.0)\n",
    "fig.set_size_inches(10, 10)\n",
    "\n",
    "\n",
    "tax.get_axes().axis('off')\n",
    "tax.clear_matplotlib_ticks()\n",
    "tax.ticks(axis='lbr', linewidth=1, multiple=0.1, tick_formats=\"%.1f\")\n",
    "tax.boundary()\n",
    "tax.right_corner_label(\"$\\\\varphi_1$\", fontsize=20)\n",
    "tax.top_corner_label(\"$\\\\varphi_2$\", fontsize=20)\n",
    "tax.left_corner_label(\"$\\\\varphi_3$\", fontsize=20)\n",
    "tax.gridlines(multiple=0.2, color=\"blue\")\n",
    "\n",
    "tax.scatter(points_sp, linewidth=2.0, label=\"Spinodal\")\n",
    "tax.scatter(binodal_points[(indices)], marker='o', color='yellow', label=\"Binodal\")\n",
    "# tax.scatter(binodal_points[(indices)], marker='o', color='orange', label=\"Binodal_Numpy\")\n",
    "tax.scatter([(rounded_root[0,0], rounded_root[0,1] ,1.-sum(rounded_root[0]))], marker='o', color='red', \n",
    "            label=\"Critical Point\")\n",
    "\n",
    "\n",
    "\n",
    "tax.legend()\n",
    "tax.show()\n",
    "\n",
    "fig.savefig(r'C:\\Users\\Ehsan\\Desktop\\plot.tiff',dpi=600)"
   ]
  },
  {
   "cell_type": "code",
   "execution_count": null,
   "metadata": {},
   "outputs": [],
   "source": []
  },
  {
   "cell_type": "code",
   "execution_count": null,
   "metadata": {},
   "outputs": [],
   "source": []
  },
  {
   "cell_type": "code",
   "execution_count": null,
   "metadata": {},
   "outputs": [],
   "source": []
  },
  {
   "cell_type": "code",
   "execution_count": null,
   "metadata": {},
   "outputs": [],
   "source": []
  },
  {
   "cell_type": "code",
   "execution_count": null,
   "metadata": {},
   "outputs": [],
   "source": []
  },
  {
   "cell_type": "code",
   "execution_count": null,
   "metadata": {},
   "outputs": [],
   "source": []
  },
  {
   "cell_type": "code",
   "execution_count": null,
   "metadata": {},
   "outputs": [],
   "source": []
  }
 ],
 "metadata": {
  "kernelspec": {
   "display_name": "Python 3",
   "language": "python",
   "name": "python3"
  },
  "language_info": {
   "codemirror_mode": {
    "name": "ipython",
    "version": 3
   },
   "file_extension": ".py",
   "mimetype": "text/x-python",
   "name": "python",
   "nbconvert_exporter": "python",
   "pygments_lexer": "ipython3",
   "version": "3.7.4"
  }
 },
 "nbformat": 4,
 "nbformat_minor": 4
}
